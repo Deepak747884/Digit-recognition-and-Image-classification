{
  "nbformat": 4,
  "nbformat_minor": 0,
  "metadata": {
    "kernelspec": {
      "display_name": "Python 3",
      "language": "python",
      "name": "python3"
    },
    "language_info": {
      "codemirror_mode": {
        "name": "ipython",
        "version": 3
      },
      "file_extension": ".py",
      "mimetype": "text/x-python",
      "name": "python",
      "nbconvert_exporter": "python",
      "pygments_lexer": "ipython3",
      "version": "3.6.8"
    },
    "colab": {
      "name": "image_classification.ipynb",
      "provenance": [],
      "collapsed_sections": []
    }
  },
  "cells": [
    {
      "cell_type": "markdown",
      "metadata": {
        "id": "7k812gTwx0rP",
        "colab_type": "text"
      },
      "source": [
        "# Digit Recognition using Image Classification\n",
        "\n",
        "using tensorflow and keras\n",
        "\n",
        "# Convolutional Neural Network\n",
        "\n",
        "One of the most powerful supervised deep learning techniques is the Convolutional Neural Networks. CNNs are mainly used for image classification although you may find other application areas such as natural language processing.\n",
        "\n",
        "We are capable of using many different layers in a convolutional neural network. However, convolution, pooling, and fully connect layers are the most important ones.\n",
        "\n",
        "# Layers of CNN\n",
        "\n",
        "1.Convolutional Layers\n",
        "\n",
        "Convolutional layer is the very first layer where we extract features from the images in our datasets.\n",
        "\n",
        "2.Pooling Layer\n",
        "\n",
        "When constructing CNNs, it is common to insert pooling layers after each convolution layer to reduce the spatial size of the representation to reduce the parameter counts which reduces the computational complexity.\n",
        "\n",
        "3.A Set of Fully Connected Layers\n",
        "\n",
        "A fully connected network is our RegularNet where each parameter is linked to one another to determine the true relation and effect of each parameter on the labels."
      ]
    },
    {
      "cell_type": "code",
      "metadata": {
        "id": "dH-EJMlvx0rW",
        "colab_type": "code",
        "colab": {}
      },
      "source": [
        "# Train Test split\n",
        "import tensorflow as tf\n",
        "(x_train, y_train), (x_test, y_test) = tf.keras.datasets.mnist.load_data()"
      ],
      "execution_count": 0,
      "outputs": []
    },
    {
      "cell_type": "code",
      "metadata": {
        "id": "Kmq_IXkcx0re",
        "colab_type": "code",
        "colab": {},
        "outputId": "c11823a9-b7ba-4cf3-a686-d050ef76a56d"
      },
      "source": [
        "# Viewing randon index entry\n",
        "import matplotlib.pyplot as plt\n",
        "image_index = 9999\n",
        "print(y_train[image_index])\n",
        "plt.imshow(x_train[image_index], cmap='Greys')"
      ],
      "execution_count": 0,
      "outputs": [
        {
          "output_type": "stream",
          "text": [
            "7\n"
          ],
          "name": "stdout"
        },
        {
          "output_type": "execute_result",
          "data": {
            "text/plain": [
              "<matplotlib.image.AxesImage at 0x7f3704f1d9e8>"
            ]
          },
          "metadata": {
            "tags": []
          },
          "execution_count": 3
        },
        {
          "output_type": "display_data",
          "data": {
            "image/png": "[encoded data removed]",
            "text/plain": [
              "<Figure size 432x288 with 1 Axes>"
            ]
          },
          "metadata": {
            "tags": [],
            "needs_background": "light"
          }
        }
      ]
    },
    {
      "cell_type": "code",
      "metadata": {
        "id": "iAzlJQOHx0rk",
        "colab_type": "code",
        "colab": {},
        "outputId": "0594d5b0-68ef-406e-f8b5-63a42be00771"
      },
      "source": [
        "x_train.shape"
      ],
      "execution_count": 0,
      "outputs": [
        {
          "output_type": "execute_result",
          "data": {
            "text/plain": [
              "(60000, 28, 28)"
            ]
          },
          "metadata": {
            "tags": []
          },
          "execution_count": 4
        }
      ]
    },
    {
      "cell_type": "code",
      "metadata": {
        "id": "YfZ3nCROx0rp",
        "colab_type": "code",
        "colab": {}
      },
      "source": [
        "# reshaping the shape of train and test data for implementing in keras library\n",
        "x_train = x_train.reshape(x_train.shape[0], 28, 28, 1)\n",
        "x_test = x_test.reshape(x_test.shape[0], 28, 28, 1)"
      ],
      "execution_count": 0,
      "outputs": []
    },
    {
      "cell_type": "code",
      "metadata": {
        "id": "GFl2uz0zx0ru",
        "colab_type": "code",
        "colab": {}
      },
      "source": [
        "#converting to float type\n",
        "x_train = x_train.astype('float32')\n",
        "x_test = x_test.astype('float32')"
      ],
      "execution_count": 0,
      "outputs": []
    },
    {
      "cell_type": "code",
      "metadata": {
        "id": "RGPeczKdx0rz",
        "colab_type": "code",
        "colab": {}
      },
      "source": [
        "#flatteing x_train and x_test \n",
        "x_train /= 255\n",
        "x_test /= 255"
      ],
      "execution_count": 0,
      "outputs": []
    },
    {
      "cell_type": "code",
      "metadata": {
        "id": "7rdSFS-lx0r3",
        "colab_type": "code",
        "colab": {},
        "outputId": "172d851d-c3bb-4f53-a4f5-a320d1d0f7d4"
      },
      "source": [
        "input_shape = (28, 28, 1)\n",
        "x_train.shape"
      ],
      "execution_count": 0,
      "outputs": [
        {
          "output_type": "execute_result",
          "data": {
            "text/plain": [
              "(60000, 28, 28, 1)"
            ]
          },
          "metadata": {
            "tags": []
          },
          "execution_count": 8
        }
      ]
    },
    {
      "cell_type": "code",
      "metadata": {
        "id": "BkLW7u2Jx0r8",
        "colab_type": "code",
        "colab": {},
        "outputId": "a894739f-3273-4872-de41-9b6179b01ee3"
      },
      "source": [
        "# importing libraries for neural network construction\n",
        "from keras.models import Sequential\n",
        "from keras.layers import Dense, Conv2D, Dropout, Flatten, MaxPooling2D"
      ],
      "execution_count": 0,
      "outputs": [
        {
          "output_type": "stream",
          "text": [
            "Using TensorFlow backend.\n"
          ],
          "name": "stderr"
        }
      ]
    },
    {
      "cell_type": "code",
      "metadata": {
        "id": "-erXCS5-x0sD",
        "colab_type": "code",
        "colab": {}
      },
      "source": [
        "# neural network layers (including convolution)\n",
        "model = Sequential()\n",
        "model.add(Conv2D(28, kernel_size=(3,3), input_shape=input_shape))\n",
        "model.add(MaxPooling2D(pool_size=(2,2)))\n",
        "model.add(Flatten())\n",
        "model.add(Dense(128, activation=tf.nn.relu))\n",
        "model.add(Dropout(0,2))\n",
        "model.add(Dense(10, activation=tf.nn.softmax))"
      ],
      "execution_count": 0,
      "outputs": []
    },
    {
      "cell_type": "code",
      "metadata": {
        "id": "HiUOSYuEx0sI",
        "colab_type": "code",
        "colab": {},
        "outputId": "91fdac0c-a3f2-4c24-f7c9-072c1e923c50"
      },
      "source": [
        "# Compilimg and training the model\n",
        "model.compile(optimizer = 'adam',\n",
        "             loss = 'sparse_categorical_crossentropy',\n",
        "             metrics = ['accuracy'])\n",
        "model.fit(x=x_train, y=y_train, epochs=10)"
      ],
      "execution_count": 0,
      "outputs": [
        {
          "output_type": "stream",
          "text": [
            "Epoch 1/10\n",
            "60000/60000 [==============================] - 47s 786us/step - loss: 0.1848 - acc: 0.9438\n",
            "Epoch 2/10\n",
            "60000/60000 [==============================] - 46s 772us/step - loss: 0.0610 - acc: 0.9812\n",
            "Epoch 3/10\n",
            "60000/60000 [==============================] - 46s 771us/step - loss: 0.0372 - acc: 0.9881\n",
            "Epoch 4/10\n",
            "60000/60000 [==============================] - 47s 780us/step - loss: 0.0236 - acc: 0.9925\n",
            "Epoch 5/10\n",
            "60000/60000 [==============================] - 47s 780us/step - loss: 0.0182 - acc: 0.9938\n",
            "Epoch 6/10\n",
            "60000/60000 [==============================] - 47s 782us/step - loss: 0.0125 - acc: 0.9960\n",
            "Epoch 7/10\n",
            "60000/60000 [==============================] - 48s 793us/step - loss: 0.0107 - acc: 0.9964\n",
            "Epoch 8/10\n",
            "60000/60000 [==============================] - 50s 837us/step - loss: 0.0084 - acc: 0.9972\n",
            "Epoch 9/10\n",
            "60000/60000 [==============================] - 47s 788us/step - loss: 0.0071 - acc: 0.9978\n",
            "Epoch 10/10\n",
            "60000/60000 [==============================] - 48s 793us/step - loss: 0.0077 - acc: 0.9974\n"
          ],
          "name": "stdout"
        },
        {
          "output_type": "execute_result",
          "data": {
            "text/plain": [
              "<keras.callbacks.History at 0x7f37071acb38>"
            ]
          },
          "metadata": {
            "tags": []
          },
          "execution_count": 11
        }
      ]
    },
    {
      "cell_type": "code",
      "metadata": {
        "id": "Rt3x6Ha-x0sN",
        "colab_type": "code",
        "colab": {},
        "outputId": "fa44d5c2-75ef-41d9-cef1-b46fd0f298dd"
      },
      "source": [
        "# testing the model for accuracy\n",
        "model.evaluate(x_test, y_test)"
      ],
      "execution_count": 0,
      "outputs": [
        {
          "output_type": "stream",
          "text": [
            "10000/10000 [==============================] - 2s 206us/step\n"
          ],
          "name": "stdout"
        },
        {
          "output_type": "execute_result",
          "data": {
            "text/plain": [
              "[0.07867970041559093, 0.9838]"
            ]
          },
          "metadata": {
            "tags": []
          },
          "execution_count": 12
        }
      ]
    },
    {
      "cell_type": "markdown",
      "metadata": {
        "id": "xYcj1kkdx0sV",
        "colab_type": "text"
      },
      "source": [
        "Accuracy = 98.38 %"
      ]
    },
    {
      "cell_type": "code",
      "metadata": {
        "id": "MOwBhZnCx0sW",
        "colab_type": "code",
        "colab": {}
      },
      "source": [
        ""
      ],
      "execution_count": 0,
      "outputs": []
    }
  ]
}